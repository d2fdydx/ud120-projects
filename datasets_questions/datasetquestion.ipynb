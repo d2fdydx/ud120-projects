{
 "cells": [
  {
   "cell_type": "code",
   "execution_count": 2,
   "metadata": {
    "collapsed": false
   },
   "outputs": [],
   "source": [
    "#!/usr/bin/python\n",
    "\n",
    "\"\"\" \n",
    "    Starter code for exploring the Enron dataset (emails + finances);\n",
    "    loads up the dataset (pickled dict of dicts).\n",
    "\n",
    "    The dataset has the form:\n",
    "    enron_data[\"LASTNAME FIRSTNAME MIDDLEINITIAL\"] = { features_dict }\n",
    "\n",
    "    {features_dict} is a dictionary of features associated with that person.\n",
    "    You should explore features_dict as part of the mini-project,\n",
    "    but here's an example to get you started:\n",
    "\n",
    "    enron_data[\"SKILLING JEFFREY K\"][\"bonus\"] = 5600000\n",
    "    \n",
    "\"\"\"\n",
    "\n",
    "import pickle\n",
    "\n",
    "enron_data = pickle.load(open(\"../final_project/final_project_dataset.pkl\", \"r\"))\n",
    "\n",
    "\n"
   ]
  },
  {
   "cell_type": "code",
   "execution_count": 4,
   "metadata": {
    "collapsed": false
   },
   "outputs": [
    {
     "data": {
      "text/plain": [
       "146"
      ]
     },
     "execution_count": 4,
     "metadata": {},
     "output_type": "execute_result"
    }
   ],
   "source": [
    "len(enron_data)"
   ]
  },
  {
   "cell_type": "code",
   "execution_count": 13,
   "metadata": {
    "collapsed": false
   },
   "outputs": [],
   "source": [
    "import pandas as pd\n",
    "sample_df = pd.DataFrame(enron_data).T"
   ]
  },
  {
   "cell_type": "code",
   "execution_count": 16,
   "metadata": {
    "collapsed": false
   },
   "outputs": [
    {
     "data": {
      "text/plain": [
       "18"
      ]
     },
     "execution_count": 16,
     "metadata": {},
     "output_type": "execute_result"
    }
   ],
   "source": [
    "import numpy as np\n",
    "np.sum(sample_df.poi)"
   ]
  },
  {
   "cell_type": "code",
   "execution_count": 23,
   "metadata": {
    "collapsed": false
   },
   "outputs": [
    {
     "data": {
      "text/plain": [
       "ALLEN PHILLIP K                  False\n",
       "BADUM JAMES P                    False\n",
       "BANNANTINE JAMES M               False\n",
       "BAXTER JOHN C                    False\n",
       "BAY FRANKLIN R                   False\n",
       "BAZELIDES PHILIP J               False\n",
       "BECK SALLY W                     False\n",
       "BELDEN TIMOTHY N                  True\n",
       "BELFER ROBERT                    False\n",
       "BERBERIAN DAVID                  False\n",
       "BERGSIEKER RICHARD P             False\n",
       "BHATNAGAR SANJAY                 False\n",
       "BIBI PHILIPPE A                  False\n",
       "BLACHMAN JEREMY M                False\n",
       "BLAKE JR. NORMAN P               False\n",
       "BOWEN JR RAYMOND M                True\n",
       "BROWN MICHAEL                    False\n",
       "BUCHANAN HAROLD G                False\n",
       "BUTTS ROBERT H                   False\n",
       "BUY RICHARD B                    False\n",
       "CALGER CHRISTOPHER F              True\n",
       "CARTER REBECCA C                 False\n",
       "CAUSEY RICHARD A                  True\n",
       "CHAN RONNIE                      False\n",
       "CHRISTODOULOU DIOMEDES           False\n",
       "CLINE KENNETH W                  False\n",
       "COLWELL WESLEY                    True\n",
       "CORDES WILLIAM R                 False\n",
       "COX DAVID                        False\n",
       "CUMBERLAND MICHAEL S             False\n",
       "                                 ...  \n",
       "SHANKMAN JEFFREY A               False\n",
       "SHAPIRO RICHARD S                False\n",
       "SHARP VICTORIA T                 False\n",
       "SHELBY REX                        True\n",
       "SHERRICK JEFFREY B               False\n",
       "SHERRIFF JOHN R                  False\n",
       "SKILLING JEFFREY K                True\n",
       "STABLER FRANK                    False\n",
       "SULLIVAN-SHAKLOVITZ COLLEEN      False\n",
       "SUNDE MARTIN                     False\n",
       "TAYLOR MITCHELL S                False\n",
       "THE TRAVEL AGENCY IN THE PARK    False\n",
       "THORN TERENCE H                  False\n",
       "TILNEY ELIZABETH A               False\n",
       "TOTAL                            False\n",
       "UMANOFF ADAM S                   False\n",
       "URQUHART JOHN A                  False\n",
       "WAKEHAM JOHN                     False\n",
       "WALLS JR ROBERT H                False\n",
       "WALTERS GARETH W                 False\n",
       "WASAFF GEORGE                    False\n",
       "WESTFAHL RICHARD K               False\n",
       "WHALEY DAVID A                   False\n",
       "WHALLEY LAWRENCE G               False\n",
       "WHITE JR THOMAS E                False\n",
       "WINOKUR JR. HERBERT S            False\n",
       "WODRASKA JOHN                    False\n",
       "WROBEL BRUCE                     False\n",
       "YEAGER F SCOTT                    True\n",
       "YEAP SOON                        False\n",
       "Name: poi, dtype: object"
      ]
     },
     "execution_count": 23,
     "metadata": {},
     "output_type": "execute_result"
    }
   ],
   "source": [
    "sample_df.poi"
   ]
  },
  {
   "cell_type": "code",
   "execution_count": 27,
   "metadata": {
    "collapsed": false
   },
   "outputs": [],
   "source": [
    "names = '''\n",
    "(y) Lay, Kenneth\n",
    "(y) Skilling, Jeffrey\n",
    "(n) Howard, Kevin\n",
    "(n) Krautz, Michael\n",
    "(n) Yeager, Scott\n",
    "(n) Hirko, Joseph\n",
    "(n) Shelby, Rex\n",
    "(n) Bermingham, David\n",
    "(n) Darby, Giles\n",
    "(n) Mulgrew, Gary\n",
    "(n) Bayley, Daniel\n",
    "(n) Brown, James\n",
    "(n) Furst, Robert\n",
    "(n) Fuhs, William\n",
    "(n) Causey, Richard\n",
    "(n) Calger, Christopher\n",
    "(n) DeSpain, Timothy\n",
    "(n) Hannon, Kevin\n",
    "(n) Koenig, Mark\n",
    "(y) Forney, John\n",
    "(n) Rice, Kenneth\n",
    "(n) Rieker, Paula\n",
    "(n) Fastow, Lea\n",
    "(n) Fastow, Andrew\n",
    "(y) Delainey, David\n",
    "(n) Glisan, Ben\n",
    "(n) Richter, Jeffrey\n",
    "(n) Lawyer, Larry\n",
    "(n) Belden, Timothy\n",
    "(n) Kopper, Michael\n",
    "(n) Duncan, David\n",
    "(n) Bowen, Raymond\n",
    "(n) Colwell, Wesley\n",
    "(n) Boyle, Dan\n",
    "(n) Loehr, Christopher\n",
    "'''.split('\\n')"
   ]
  },
  {
   "cell_type": "code",
   "execution_count": 29,
   "metadata": {
    "collapsed": false
   },
   "outputs": [
    {
     "data": {
      "text/plain": [
       "37"
      ]
     },
     "execution_count": 29,
     "metadata": {},
     "output_type": "execute_result"
    }
   ],
   "source": [
    "len(names)"
   ]
  },
  {
   "cell_type": "code",
   "execution_count": 41,
   "metadata": {
    "collapsed": true
   },
   "outputs": [],
   "source": [
    "sample_df = sample_df.reset_index()"
   ]
  },
  {
   "cell_type": "code",
   "execution_count": 48,
   "metadata": {
    "collapsed": false
   },
   "outputs": [
    {
     "data": {
      "text/plain": [
       "26    11\n",
       "Name: from_this_person_to_poi, dtype: object"
      ]
     },
     "execution_count": 48,
     "metadata": {},
     "output_type": "execute_result"
    }
   ],
   "source": [
    "sample_df[sample_df['index'].str.contains('COLWELL WESLEY')]['from_this_person_to_poi']"
   ]
  },
  {
   "cell_type": "code",
   "execution_count": 47,
   "metadata": {
    "collapsed": false
   },
   "outputs": [
    {
     "data": {
      "text/plain": [
       "Index([u'index', u'bonus', u'deferral_payments', u'deferred_income',\n",
       "       u'director_fees', u'email_address', u'exercised_stock_options',\n",
       "       u'expenses', u'from_messages', u'from_poi_to_this_person',\n",
       "       u'from_this_person_to_poi', u'loan_advances', u'long_term_incentive',\n",
       "       u'other', u'poi', u'restricted_stock', u'restricted_stock_deferred',\n",
       "       u'salary', u'shared_receipt_with_poi', u'to_messages',\n",
       "       u'total_payments', u'total_stock_value'],\n",
       "      dtype='object')"
      ]
     },
     "execution_count": 47,
     "metadata": {},
     "output_type": "execute_result"
    }
   ],
   "source": [
    "sample_df.columns"
   ]
  },
  {
   "cell_type": "code",
   "execution_count": 54,
   "metadata": {
    "collapsed": false
   },
   "outputs": [
    {
     "data": {
      "text/plain": [
       "122    19250000\n",
       "Name: exercised_stock_options, dtype: object"
      ]
     },
     "execution_count": 54,
     "metadata": {},
     "output_type": "execute_result"
    }
   ],
   "source": [
    "sample_df[sample_df['index'].str.contains('SKILLING')]['exercised_stock_options']"
   ]
  },
  {
   "cell_type": "code",
   "execution_count": null,
   "metadata": {
    "collapsed": true
   },
   "outputs": [],
   "source": []
  }
 ],
 "metadata": {
  "kernelspec": {
   "display_name": "Python [py27]",
   "language": "python",
   "name": "Python [py27]"
  },
  "language_info": {
   "codemirror_mode": {
    "name": "ipython",
    "version": 2
   },
   "file_extension": ".py",
   "mimetype": "text/x-python",
   "name": "python",
   "nbconvert_exporter": "python",
   "pygments_lexer": "ipython2",
   "version": "2.7.12"
  }
 },
 "nbformat": 4,
 "nbformat_minor": 0
}
